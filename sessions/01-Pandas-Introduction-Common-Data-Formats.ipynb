{
 "cells": [
  {
   "cell_type": "markdown",
   "metadata": {},
   "source": [
    "![BTS](img/Logo-BTS.jpg)\n",
    "\n",
    "# Session 1: Pandas and Common data formats\n",
    "\n",
    "### Victor F. Pajuelo Madrigal <victor.pajuelo@bts.tech> - Data Science Foundations (2019-10-01)\n",
    "\n",
    "Open this notebook in Google Colaboratory: [![Open in Colab](https://colab.research.google.com/assets/colab-badge.svg)](https://colab.research.google.com/github/vfp1/bts-mbds-data-science-foundations-2019/blob/master/sessions/01-Pandas-Introduction-Common-Data-Formats.ipynb)"
   ]
  },
  {
   "cell_type": "markdown",
   "metadata": {
    "colab_type": "text",
    "id": "5fCEDCU_qrC0"
   },
   "source": [
    "pandas is a Python package providing fast, flexible, and expressive data structures designed to make working with “relational” or “labeled” data both easy and intuitive. It aims to be the fundamental high-level building block for doing practical, real world data analysis in Python. Additionally, it has the broader goal of becoming the most powerful and flexible open source data analysis / manipulation tool available in any language. It is already well on its way toward this goal.\n",
    "\n",
    "pandas is well suited for many different kinds of data:\n",
    "\n",
    "Tabular data with heterogeneously-typed columns, as in an SQL table or Excel spreadsheet\n",
    "Ordered and unordered (not necessarily fixed-frequency) time series data.\n",
    "Arbitrary matrix data (homogeneously typed or heterogeneous) with row and column labels\n",
    "Any other form of observational / statistical data sets. The data actually need not be labeled at all to be placed into a pandas data structure\n",
    "The two primary data structures of pandas, Series (1-dimensional) and DataFrame (2-dimensional), handle the vast majority of typical use cases in finance, statistics, social science, and many areas of engineering. For R users, DataFrame provides everything that R’s data.frame provides and much more. pandas is built on top of NumPy and is intended to integrate well within a scientific computing environment with many other 3rd party libraries.\n",
    "\n",
    "## Important! Mutability and copying of data\n",
    "All pandas data structures are value-mutable (the values they contain can be altered) but not always size-mutable. The length of a Series cannot be changed, but, for example, columns can be inserted into a DataFrame. However, the vast majority of methods produce new objects and leave the input data untouched. In general we like to favor immutability where sensible.\n",
    "\n",
    "[Source](https://pandas.pydata.org/pandas-docs/stable/getting_started/overview.html)"
   ]
  },
  {
   "cell_type": "markdown",
   "metadata": {
    "colab_type": "text",
    "id": "E225XohP1QuC"
   },
   "source": [
    "# Pandas functionality introduction: a 101, step by step guide"
   ]
  },
  {
   "cell_type": "markdown",
   "metadata": {
    "colab_type": "text",
    "id": "FOrxHMmM1aZN"
   },
   "source": [
    "As you already know, we start by importing the necessary libraries. In this case will be Numpy and Pandas."
   ]
  },
  {
   "cell_type": "code",
   "execution_count": 0,
   "metadata": {
    "colab": {},
    "colab_type": "code",
    "id": "Lz8EySpT1P5n"
   },
   "outputs": [],
   "source": [
    "import numpy as np\n",
    "import pandas as pd\n",
    "\n",
    "# Within IPython notebook, add multiple print capabilities\n",
    "from IPython.core.interactiveshell import InteractiveShell\n",
    "InteractiveShell.ast_node_interactivity = \"all\""
   ]
  },
  {
   "cell_type": "markdown",
   "metadata": {
    "colab_type": "text",
    "id": "t6ddWVb-3i7y"
   },
   "source": [
    "## Series and DataFrames\n",
    "\n",
    "Pandas has two main types of Data Structures, i.e. Series and DataFrames, which are one and two dimensional arrays respectively. The best way to think about the pandas data structures is as flexible containers for lower dimensional data. For example, DataFrame is a container for Series, and Series is a container for scalars. We would like to be able to insert and remove objects from these containers in a dictionary-like fashion.\n",
    "\n",
    "[Source](https://pandas.pydata.org/pandas-docs/stable/getting_started/overview.html)\n",
    "\n",
    "For a complete introduction to Pandas Objects by Jake VanderPlas (slightly modified by Victor Pajuelo Madrigal), go to this notebook: [![Open in Colab](https://colab.research.google.com/assets/colab-badge.svg)](https://colab.research.google.com/github/vfp1/bts-mbds-data-science-foundations-2019/blob/master/sessions/01-External-Introducing_Pandas_Objects.ipynb)"
   ]
  },
  {
   "cell_type": "markdown",
   "metadata": {
    "colab_type": "text",
    "id": "NJGoqzJw5otK"
   },
   "source": [
    "### Series\n",
    "\n",
    "Series are 1-D arrays. In the following cell we create some dummy data, containing NaN values and different digit values. Then we invoke the variable to see the results. In a nutshell, series are **containers for scalars**"
   ]
  },
  {
   "cell_type": "code",
   "execution_count": 0,
   "metadata": {
    "colab": {},
    "colab_type": "code",
    "id": "gokJNTN60TD6"
   },
   "outputs": [],
   "source": [
    " s = pd.Series([0, 1, 5, np.nan, 6, 81])"
   ]
  },
  {
   "cell_type": "markdown",
   "metadata": {
    "colab_type": "text",
    "id": "zB4c9Bhn8LiR"
   },
   "source": [
    "As we can see printed below by invoking variable **\"s\"**, series have only one Data Type, while DataFrames can have many."
   ]
  },
  {
   "cell_type": "code",
   "execution_count": 4,
   "metadata": {
    "colab": {
     "base_uri": "https://localhost:8080/",
     "height": 145.0
    },
    "colab_type": "code",
    "id": "1JNAyE_16Zfs",
    "outputId": "01e3954b-8ca2-4d56-bffd-bde3f64a92f9"
   },
   "outputs": [
    {
     "data": {
      "text/plain": [
       "0     0.0\n",
       "1     1.0\n",
       "2     5.0\n",
       "3     NaN\n",
       "4     6.0\n",
       "5    81.0\n",
       "dtype: float64"
      ]
     },
     "execution_count": 4,
     "metadata": {
      "tags": []
     },
     "output_type": "execute_result"
    }
   ],
   "source": [
    "s"
   ]
  },
  {
   "cell_type": "markdown",
   "metadata": {
    "colab_type": "text",
    "id": "ZIrmbgfP7Af6"
   },
   "source": [
    "### DataFrames\n",
    "\n",
    "DataFrames, and actually pandas as a whole, is the pythonic reaction to the R language. DataFrames replicates the functionalities of R *data.frames* tables. Pandas DataFrames are 2D tabular structures.\n",
    "\n",
    "Here we will use Pandas *date_range* method to populate our first DataFrame. The *date_range* method will provide us with some timestamps that will be our **indexes** or *rows*. We will create 6 of them."
   ]
  },
  {
   "cell_type": "code",
   "execution_count": 5,
   "metadata": {
    "colab": {
     "base_uri": "https://localhost:8080/",
     "height": 72.0
    },
    "colab_type": "code",
    "id": "S64ryRS06Z_X",
    "outputId": "f92ff9de-df17-4759-b88e-72c6a54eadb6"
   },
   "outputs": [
    {
     "data": {
      "text/plain": [
       "DatetimeIndex(['2019-12-08', '2019-12-09', '2019-12-10', '2019-12-11',\n",
       "               '2019-12-12', '2019-12-13'],\n",
       "              dtype='datetime64[ns]', freq='D')"
      ]
     },
     "execution_count": 5,
     "metadata": {
      "tags": []
     },
     "output_type": "execute_result"
    }
   ],
   "source": [
    "dates = pd.date_range('20191208', periods=6)\n",
    "dates"
   ]
  },
  {
   "cell_type": "markdown",
   "metadata": {
    "colab_type": "text",
    "id": "FGFMXp9zApx0"
   },
   "source": [
    "Then we create fake data using **numpy** *random.randn* method, providing an array equal to the number of indexes/rows (in this case 6) and the number of columns, which we will keep at 5 characters from *A* to *E*.\n",
    "\n",
    "Then we pass the fake data to the pandas DataFrame, together with the indexes and columns. And then we have our first pandas DataFrame!!"
   ]
  },
  {
   "cell_type": "code",
   "execution_count": 6,
   "metadata": {
    "colab": {
     "base_uri": "https://localhost:8080/",
     "height": 228.0
    },
    "colab_type": "code",
    "id": "IQzHaPSq869p",
    "outputId": "8214a6de-abb4-4590-d8d2-e79402ee1434"
   },
   "outputs": [
    {
     "data": {
      "text/html": [
       "<div>\n",
       "<style scoped>\n",
       "    .dataframe tbody tr th:only-of-type {\n",
       "        vertical-align: middle;\n",
       "    }\n",
       "\n",
       "    .dataframe tbody tr th {\n",
       "        vertical-align: top;\n",
       "    }\n",
       "\n",
       "    .dataframe thead th {\n",
       "        text-align: right;\n",
       "    }\n",
       "</style>\n",
       "<table border=\"1\" class=\"dataframe\">\n",
       "  <thead>\n",
       "    <tr style=\"text-align: right;\">\n",
       "      <th></th>\n",
       "      <th>A</th>\n",
       "      <th>B</th>\n",
       "      <th>C</th>\n",
       "      <th>D</th>\n",
       "      <th>E</th>\n",
       "    </tr>\n",
       "  </thead>\n",
       "  <tbody>\n",
       "    <tr>\n",
       "      <th>2019-12-08</th>\n",
       "      <td>1.381843</td>\n",
       "      <td>-1.960732</td>\n",
       "      <td>-1.079255</td>\n",
       "      <td>0.242728</td>\n",
       "      <td>0.571902</td>\n",
       "    </tr>\n",
       "    <tr>\n",
       "      <th>2019-12-09</th>\n",
       "      <td>-1.981175</td>\n",
       "      <td>-0.876572</td>\n",
       "      <td>1.399260</td>\n",
       "      <td>-0.264012</td>\n",
       "      <td>0.523527</td>\n",
       "    </tr>\n",
       "    <tr>\n",
       "      <th>2019-12-10</th>\n",
       "      <td>-0.153945</td>\n",
       "      <td>0.378060</td>\n",
       "      <td>1.711884</td>\n",
       "      <td>-1.105884</td>\n",
       "      <td>0.162734</td>\n",
       "    </tr>\n",
       "    <tr>\n",
       "      <th>2019-12-11</th>\n",
       "      <td>-1.886251</td>\n",
       "      <td>-0.526569</td>\n",
       "      <td>0.501413</td>\n",
       "      <td>-0.875845</td>\n",
       "      <td>1.739303</td>\n",
       "    </tr>\n",
       "    <tr>\n",
       "      <th>2019-12-12</th>\n",
       "      <td>-0.543642</td>\n",
       "      <td>1.273038</td>\n",
       "      <td>0.712607</td>\n",
       "      <td>-0.020632</td>\n",
       "      <td>0.030064</td>\n",
       "    </tr>\n",
       "    <tr>\n",
       "      <th>2019-12-13</th>\n",
       "      <td>-0.513712</td>\n",
       "      <td>0.715614</td>\n",
       "      <td>0.663741</td>\n",
       "      <td>0.232887</td>\n",
       "      <td>1.520726</td>\n",
       "    </tr>\n",
       "  </tbody>\n",
       "</table>\n",
       "</div>"
      ],
      "text/plain": [
       "                   A         B         C         D         E\n",
       "2019-12-08  1.381843 -1.960732 -1.079255  0.242728  0.571902\n",
       "2019-12-09 -1.981175 -0.876572  1.399260 -0.264012  0.523527\n",
       "2019-12-10 -0.153945  0.378060  1.711884 -1.105884  0.162734\n",
       "2019-12-11 -1.886251 -0.526569  0.501413 -0.875845  1.739303\n",
       "2019-12-12 -0.543642  1.273038  0.712607 -0.020632  0.030064\n",
       "2019-12-13 -0.513712  0.715614  0.663741  0.232887  1.520726"
      ]
     },
     "execution_count": 6,
     "metadata": {
      "tags": []
     },
     "output_type": "execute_result"
    }
   ],
   "source": [
    "df = pd.DataFrame(np.random.randn(6, 5), index=dates, columns=list('ABCDE'))\n",
    "df"
   ]
  },
  {
   "cell_type": "markdown",
   "metadata": {
    "colab_type": "text",
    "id": "cjtoCDdjYB7-"
   },
   "source": [
    "## Viewing, quick summaries and transformations of the data frame"
   ]
  },
  {
   "cell_type": "markdown",
   "metadata": {
    "colab_type": "text",
    "id": "NkcFst5PDMe0"
   },
   "source": [
    "### Viewing the components of a DataFrame \n",
    "To quickly view the top rows of our dataset, we can use the **head()** method, which will display few lines at the top of our DataFrame. We can select the number of rows to be printed, within the method **head(n)**"
   ]
  },
  {
   "cell_type": "code",
   "execution_count": 9,
   "metadata": {
    "colab": {
     "base_uri": "https://localhost:8080/",
     "height": 0.0
    },
    "colab_type": "code",
    "id": "u0EqFqEOYEWc",
    "outputId": "47a965bd-ed7e-472a-f84e-0546998f3062"
   },
   "outputs": [
    {
     "data": {
      "text/html": [
       "<div>\n",
       "<style scoped>\n",
       "    .dataframe tbody tr th:only-of-type {\n",
       "        vertical-align: middle;\n",
       "    }\n",
       "\n",
       "    .dataframe tbody tr th {\n",
       "        vertical-align: top;\n",
       "    }\n",
       "\n",
       "    .dataframe thead th {\n",
       "        text-align: right;\n",
       "    }\n",
       "</style>\n",
       "<table border=\"1\" class=\"dataframe\">\n",
       "  <thead>\n",
       "    <tr style=\"text-align: right;\">\n",
       "      <th></th>\n",
       "      <th>A</th>\n",
       "      <th>B</th>\n",
       "      <th>C</th>\n",
       "      <th>D</th>\n",
       "      <th>E</th>\n",
       "    </tr>\n",
       "  </thead>\n",
       "  <tbody>\n",
       "    <tr>\n",
       "      <th>2019-12-08</th>\n",
       "      <td>1.381843</td>\n",
       "      <td>-1.960732</td>\n",
       "      <td>-1.079255</td>\n",
       "      <td>0.242728</td>\n",
       "      <td>0.571902</td>\n",
       "    </tr>\n",
       "    <tr>\n",
       "      <th>2019-12-09</th>\n",
       "      <td>-1.981175</td>\n",
       "      <td>-0.876572</td>\n",
       "      <td>1.399260</td>\n",
       "      <td>-0.264012</td>\n",
       "      <td>0.523527</td>\n",
       "    </tr>\n",
       "    <tr>\n",
       "      <th>2019-12-10</th>\n",
       "      <td>-0.153945</td>\n",
       "      <td>0.378060</td>\n",
       "      <td>1.711884</td>\n",
       "      <td>-1.105884</td>\n",
       "      <td>0.162734</td>\n",
       "    </tr>\n",
       "    <tr>\n",
       "      <th>2019-12-11</th>\n",
       "      <td>-1.886251</td>\n",
       "      <td>-0.526569</td>\n",
       "      <td>0.501413</td>\n",
       "      <td>-0.875845</td>\n",
       "      <td>1.739303</td>\n",
       "    </tr>\n",
       "    <tr>\n",
       "      <th>2019-12-12</th>\n",
       "      <td>-0.543642</td>\n",
       "      <td>1.273038</td>\n",
       "      <td>0.712607</td>\n",
       "      <td>-0.020632</td>\n",
       "      <td>0.030064</td>\n",
       "    </tr>\n",
       "  </tbody>\n",
       "</table>\n",
       "</div>"
      ],
      "text/plain": [
       "                   A         B         C         D         E\n",
       "2019-12-08  1.381843 -1.960732 -1.079255  0.242728  0.571902\n",
       "2019-12-09 -1.981175 -0.876572  1.399260 -0.264012  0.523527\n",
       "2019-12-10 -0.153945  0.378060  1.711884 -1.105884  0.162734\n",
       "2019-12-11 -1.886251 -0.526569  0.501413 -0.875845  1.739303\n",
       "2019-12-12 -0.543642  1.273038  0.712607 -0.020632  0.030064"
      ]
     },
     "execution_count": 9,
     "metadata": {
      "tags": []
     },
     "output_type": "execute_result"
    }
   ],
   "source": [
    "df.head()"
   ]
  },
  {
   "cell_type": "markdown",
   "metadata": {
    "colab_type": "text",
    "id": "ZkJPY6T7GXan"
   },
   "source": [
    "To display the last rows of the DataFrame, use the method **tail()**. We can as well specify the number of rows to be printed:"
   ]
  },
  {
   "cell_type": "code",
   "execution_count": 0,
   "metadata": {
    "colab": {
     "base_uri": "https://localhost:8080/",
     "height": 106.0
    },
    "colab_type": "code",
    "id": "kvFsv1zGYJTl",
    "outputId": "26c87cc3-34e5-469f-a4c7-f1228c466e0f"
   },
   "outputs": [
    {
     "data": {
      "text/html": [
       "<div>\n",
       "<style scoped>\n",
       "    .dataframe tbody tr th:only-of-type {\n",
       "        vertical-align: middle;\n",
       "    }\n",
       "\n",
       "    .dataframe tbody tr th {\n",
       "        vertical-align: top;\n",
       "    }\n",
       "\n",
       "    .dataframe thead th {\n",
       "        text-align: right;\n",
       "    }\n",
       "</style>\n",
       "<table border=\"1\" class=\"dataframe\">\n",
       "  <thead>\n",
       "    <tr style=\"text-align: right;\">\n",
       "      <th></th>\n",
       "      <th>A</th>\n",
       "      <th>B</th>\n",
       "      <th>C</th>\n",
       "      <th>D</th>\n",
       "      <th>E</th>\n",
       "    </tr>\n",
       "  </thead>\n",
       "  <tbody>\n",
       "    <tr>\n",
       "      <th>2019-12-12</th>\n",
       "      <td>0.051021</td>\n",
       "      <td>0.950206</td>\n",
       "      <td>0.356051</td>\n",
       "      <td>-1.155407</td>\n",
       "      <td>-0.550417</td>\n",
       "    </tr>\n",
       "    <tr>\n",
       "      <th>2019-12-13</th>\n",
       "      <td>0.851986</td>\n",
       "      <td>-0.509780</td>\n",
       "      <td>-0.811292</td>\n",
       "      <td>1.763604</td>\n",
       "      <td>-0.026557</td>\n",
       "    </tr>\n",
       "  </tbody>\n",
       "</table>\n",
       "</div>"
      ],
      "text/plain": [
       "                   A         B         C         D         E\n",
       "2019-12-12  0.051021  0.950206  0.356051 -1.155407 -0.550417\n",
       "2019-12-13  0.851986 -0.509780 -0.811292  1.763604 -0.026557"
      ]
     },
     "execution_count": 19,
     "metadata": {
      "tags": []
     },
     "output_type": "execute_result"
    }
   ],
   "source": [
    "df.tail(2)"
   ]
  },
  {
   "cell_type": "markdown",
   "metadata": {
    "colab_type": "text",
    "id": "yOiMv0sYH9gP"
   },
   "source": [
    "To print the index/rows simply do the following:"
   ]
  },
  {
   "cell_type": "code",
   "execution_count": 15,
   "metadata": {
    "colab": {
     "base_uri": "https://localhost:8080/",
     "height": 0.0
    },
    "colab_type": "code",
    "id": "v6VNFWQ3YLOw",
    "outputId": "a3483223-0721-4ab8-ff8a-e8fe9c3bc931"
   },
   "outputs": [
    {
     "data": {
      "text/plain": [
       "DatetimeIndex(['2019-12-08', '2019-12-09', '2019-12-10', '2019-12-11',\n",
       "               '2019-12-12', '2019-12-13'],\n",
       "              dtype='datetime64[ns]', freq='D')"
      ]
     },
     "execution_count": 15,
     "metadata": {
      "tags": []
     },
     "output_type": "execute_result"
    }
   ],
   "source": [
    "df.index"
   ]
  },
  {
   "cell_type": "markdown",
   "metadata": {
    "colab_type": "text",
    "id": "vYcCsnI1IE0P"
   },
   "source": []
  },
  {
   "cell_type": "code",
   "execution_count": 13,
   "metadata": {
    "colab": {
     "base_uri": "https://localhost:8080/",
     "height": 0.0
    },
    "colab_type": "code",
    "id": "XcAQ1w7JYM8S",
    "outputId": "74049fb4-fd52-4880-e588-bdb6f2a24f01"
   },
   "outputs": [
    {
     "data": {
      "text/plain": [
       "Index(['A', 'B', 'C', 'D', 'E'], dtype='object')"
      ]
     },
     "execution_count": 13,
     "metadata": {
      "tags": []
     },
     "output_type": "execute_result"
    }
   ],
   "source": [
    "df.columns"
   ]
  },
  {
   "cell_type": "markdown",
   "metadata": {
    "colab_type": "text",
    "id": "b9Tur9UHI8vF"
   },
   "source": [
    "### Quick summaries and transformations of the DataFrame\n",
    "\n",
    "Python Pandas allows for very quick DataFrame summaries and transformations to aid in ETL (Extract Transform Load) and exploratory tasks.\n",
    "\n",
    "For instance, if we want to transpose the DataFrame (changing the rows by the columns), we can use the following method:"
   ]
  },
  {
   "cell_type": "code",
   "execution_count": 16,
   "metadata": {
    "colab": {
     "base_uri": "https://localhost:8080/",
     "height": 198.0
    },
    "colab_type": "code",
    "id": "d3PX_CuhYWCv",
    "outputId": "d961d05c-8f3e-45e4-8147-15b9ae413859"
   },
   "outputs": [
    {
     "data": {
      "text/html": [
       "<div>\n",
       "<style scoped>\n",
       "    .dataframe tbody tr th:only-of-type {\n",
       "        vertical-align: middle;\n",
       "    }\n",
       "\n",
       "    .dataframe tbody tr th {\n",
       "        vertical-align: top;\n",
       "    }\n",
       "\n",
       "    .dataframe thead th {\n",
       "        text-align: right;\n",
       "    }\n",
       "</style>\n",
       "<table border=\"1\" class=\"dataframe\">\n",
       "  <thead>\n",
       "    <tr style=\"text-align: right;\">\n",
       "      <th></th>\n",
       "      <th>2019-12-08 00:00:00</th>\n",
       "      <th>2019-12-09 00:00:00</th>\n",
       "      <th>2019-12-10 00:00:00</th>\n",
       "      <th>2019-12-11 00:00:00</th>\n",
       "      <th>2019-12-12 00:00:00</th>\n",
       "      <th>2019-12-13 00:00:00</th>\n",
       "    </tr>\n",
       "  </thead>\n",
       "  <tbody>\n",
       "    <tr>\n",
       "      <th>A</th>\n",
       "      <td>1.381843</td>\n",
       "      <td>-1.981175</td>\n",
       "      <td>-0.153945</td>\n",
       "      <td>-1.886251</td>\n",
       "      <td>-0.543642</td>\n",
       "      <td>-0.513712</td>\n",
       "    </tr>\n",
       "    <tr>\n",
       "      <th>B</th>\n",
       "      <td>-1.960732</td>\n",
       "      <td>-0.876572</td>\n",
       "      <td>0.378060</td>\n",
       "      <td>-0.526569</td>\n",
       "      <td>1.273038</td>\n",
       "      <td>0.715614</td>\n",
       "    </tr>\n",
       "    <tr>\n",
       "      <th>C</th>\n",
       "      <td>-1.079255</td>\n",
       "      <td>1.399260</td>\n",
       "      <td>1.711884</td>\n",
       "      <td>0.501413</td>\n",
       "      <td>0.712607</td>\n",
       "      <td>0.663741</td>\n",
       "    </tr>\n",
       "    <tr>\n",
       "      <th>D</th>\n",
       "      <td>0.242728</td>\n",
       "      <td>-0.264012</td>\n",
       "      <td>-1.105884</td>\n",
       "      <td>-0.875845</td>\n",
       "      <td>-0.020632</td>\n",
       "      <td>0.232887</td>\n",
       "    </tr>\n",
       "    <tr>\n",
       "      <th>E</th>\n",
       "      <td>0.571902</td>\n",
       "      <td>0.523527</td>\n",
       "      <td>0.162734</td>\n",
       "      <td>1.739303</td>\n",
       "      <td>0.030064</td>\n",
       "      <td>1.520726</td>\n",
       "    </tr>\n",
       "  </tbody>\n",
       "</table>\n",
       "</div>"
      ],
      "text/plain": [
       "   2019-12-08  2019-12-09  2019-12-10  2019-12-11  2019-12-12  2019-12-13\n",
       "A    1.381843   -1.981175   -0.153945   -1.886251   -0.543642   -0.513712\n",
       "B   -1.960732   -0.876572    0.378060   -0.526569    1.273038    0.715614\n",
       "C   -1.079255    1.399260    1.711884    0.501413    0.712607    0.663741\n",
       "D    0.242728   -0.264012   -1.105884   -0.875845   -0.020632    0.232887\n",
       "E    0.571902    0.523527    0.162734    1.739303    0.030064    1.520726"
      ]
     },
     "execution_count": 16,
     "metadata": {
      "tags": []
     },
     "output_type": "execute_result"
    }
   ],
   "source": [
    "df.T"
   ]
  },
  {
   "cell_type": "markdown",
   "metadata": {
    "colab_type": "text",
    "id": "Hxmb0lLTJgXf"
   },
   "source": [
    "We can as well pass our DataFrame as a [NumPy](https://numpy.org/) array."
   ]
  },
  {
   "cell_type": "code",
   "execution_count": 0,
   "metadata": {
    "colab": {
     "base_uri": "https://localhost:8080/",
     "height": 122.0
    },
    "colab_type": "code",
    "id": "5eFdimVzZYDO",
    "outputId": "8e54227c-4567-4a74-98cb-0f6862d87b5b"
   },
   "outputs": [
    {
     "data": {
      "text/plain": [
       "array([[ 0.47551948, -1.09069474,  0.26572951, -0.76045147,  0.87233216],\n",
       "       [-1.12311682, -0.55378582,  0.87195299, -0.14027247,  2.59050097],\n",
       "       [ 0.12534816, -0.28825733,  1.10561535,  0.32717054,  0.99001645],\n",
       "       [-0.20980696,  0.99384602,  2.47480337, -0.08265069,  1.02785119],\n",
       "       [ 0.05102118,  0.95020597,  0.35605069, -1.15540703, -0.55041661],\n",
       "       [ 0.85198643, -0.50978048, -0.81129171,  1.76360391, -0.02655716]])"
      ]
     },
     "execution_count": 27,
     "metadata": {
      "tags": []
     },
     "output_type": "execute_result"
    }
   ],
   "source": [
    "df.to_numpy()"
   ]
  },
  {
   "cell_type": "markdown",
   "metadata": {
    "colab_type": "text",
    "id": "MI7JZmLhLoHC"
   },
   "source": [
    "#### Quick descriptive statistics\n",
    "\n",
    "One of the most powerful methods for data analytics prototyping is the pandas **describe()** method. This method generates descriptive statistics that summarizes the central tendency, dispersion and shape of a dataset distribution, excluding *NaN* values.\n",
    "\n",
    "The describe method returns a series of descriptive statistics for the Series or DataFrame. And as well the percentiles. By default, the lower is set to 25%, the upper to 75%, being the 50% percentile the same as the median."
   ]
  },
  {
   "cell_type": "code",
   "execution_count": 21,
   "metadata": {
    "colab": {
     "base_uri": "https://localhost:8080/",
     "height": 288.0
    },
    "colab_type": "code",
    "id": "Lo3YhTeqZcs7",
    "outputId": "3c4dadc0-2b2e-4dcc-f795-ee4fdccc6389"
   },
   "outputs": [
    {
     "data": {
      "text/html": [
       "<div>\n",
       "<style scoped>\n",
       "    .dataframe tbody tr th:only-of-type {\n",
       "        vertical-align: middle;\n",
       "    }\n",
       "\n",
       "    .dataframe tbody tr th {\n",
       "        vertical-align: top;\n",
       "    }\n",
       "\n",
       "    .dataframe thead th {\n",
       "        text-align: right;\n",
       "    }\n",
       "</style>\n",
       "<table border=\"1\" class=\"dataframe\">\n",
       "  <thead>\n",
       "    <tr style=\"text-align: right;\">\n",
       "      <th></th>\n",
       "      <th>A</th>\n",
       "      <th>B</th>\n",
       "      <th>C</th>\n",
       "      <th>D</th>\n",
       "      <th>E</th>\n",
       "    </tr>\n",
       "  </thead>\n",
       "  <tbody>\n",
       "    <tr>\n",
       "      <th>count</th>\n",
       "      <td>6.000000</td>\n",
       "      <td>6.000000</td>\n",
       "      <td>6.000000</td>\n",
       "      <td>6.000000</td>\n",
       "      <td>6.000000</td>\n",
       "    </tr>\n",
       "    <tr>\n",
       "      <th>mean</th>\n",
       "      <td>-0.616147</td>\n",
       "      <td>-0.166193</td>\n",
       "      <td>0.651608</td>\n",
       "      <td>-0.298460</td>\n",
       "      <td>0.758043</td>\n",
       "    </tr>\n",
       "    <tr>\n",
       "      <th>std</th>\n",
       "      <td>1.240791</td>\n",
       "      <td>1.183221</td>\n",
       "      <td>0.970101</td>\n",
       "      <td>0.572520</td>\n",
       "      <td>0.709725</td>\n",
       "    </tr>\n",
       "    <tr>\n",
       "      <th>min</th>\n",
       "      <td>-1.981175</td>\n",
       "      <td>-1.960732</td>\n",
       "      <td>-1.079255</td>\n",
       "      <td>-1.105884</td>\n",
       "      <td>0.030064</td>\n",
       "    </tr>\n",
       "    <tr>\n",
       "      <th>25%</th>\n",
       "      <td>-1.550599</td>\n",
       "      <td>-0.789071</td>\n",
       "      <td>0.541995</td>\n",
       "      <td>-0.722887</td>\n",
       "      <td>0.252932</td>\n",
       "    </tr>\n",
       "    <tr>\n",
       "      <th>50%</th>\n",
       "      <td>-0.528677</td>\n",
       "      <td>-0.074255</td>\n",
       "      <td>0.688174</td>\n",
       "      <td>-0.142322</td>\n",
       "      <td>0.547714</td>\n",
       "    </tr>\n",
       "    <tr>\n",
       "      <th>75%</th>\n",
       "      <td>-0.243887</td>\n",
       "      <td>0.631226</td>\n",
       "      <td>1.227597</td>\n",
       "      <td>0.169507</td>\n",
       "      <td>1.283520</td>\n",
       "    </tr>\n",
       "    <tr>\n",
       "      <th>max</th>\n",
       "      <td>1.381843</td>\n",
       "      <td>1.273038</td>\n",
       "      <td>1.711884</td>\n",
       "      <td>0.242728</td>\n",
       "      <td>1.739303</td>\n",
       "    </tr>\n",
       "  </tbody>\n",
       "</table>\n",
       "</div>"
      ],
      "text/plain": [
       "              A         B         C         D         E\n",
       "count  6.000000  6.000000  6.000000  6.000000  6.000000\n",
       "mean  -0.616147 -0.166193  0.651608 -0.298460  0.758043\n",
       "std    1.240791  1.183221  0.970101  0.572520  0.709725\n",
       "min   -1.981175 -1.960732 -1.079255 -1.105884  0.030064\n",
       "25%   -1.550599 -0.789071  0.541995 -0.722887  0.252932\n",
       "50%   -0.528677 -0.074255  0.688174 -0.142322  0.547714\n",
       "75%   -0.243887  0.631226  1.227597  0.169507  1.283520\n",
       "max    1.381843  1.273038  1.711884  0.242728  1.739303"
      ]
     },
     "execution_count": 21,
     "metadata": {
      "tags": []
     },
     "output_type": "execute_result"
    }
   ],
   "source": [
    "df.describe()"
   ]
  },
  {
   "cell_type": "markdown",
   "metadata": {
    "colab_type": "text",
    "id": "_XpeJIqVYQaA"
   },
   "source": [
    "The default percentiles are the following: `[.25, .5, .75]`. We can modify the percentiles if we see fit by passing a list of the percentiles that we want to have, it always needs to be between 0 and 1:"
   ]
  },
  {
   "cell_type": "code",
   "execution_count": 28,
   "metadata": {
    "colab": {
     "base_uri": "https://localhost:8080/",
     "height": 288.0
    },
    "colab_type": "code",
    "id": "nNFiuci6YcZU",
    "outputId": "78956644-2ad7-4dea-9ec8-354c56720262"
   },
   "outputs": [
    {
     "data": {
      "text/html": [
       "<div>\n",
       "<style scoped>\n",
       "    .dataframe tbody tr th:only-of-type {\n",
       "        vertical-align: middle;\n",
       "    }\n",
       "\n",
       "    .dataframe tbody tr th {\n",
       "        vertical-align: top;\n",
       "    }\n",
       "\n",
       "    .dataframe thead th {\n",
       "        text-align: right;\n",
       "    }\n",
       "</style>\n",
       "<table border=\"1\" class=\"dataframe\">\n",
       "  <thead>\n",
       "    <tr style=\"text-align: right;\">\n",
       "      <th></th>\n",
       "      <th>A</th>\n",
       "      <th>B</th>\n",
       "      <th>C</th>\n",
       "      <th>D</th>\n",
       "      <th>E</th>\n",
       "    </tr>\n",
       "  </thead>\n",
       "  <tbody>\n",
       "    <tr>\n",
       "      <th>count</th>\n",
       "      <td>6.000000</td>\n",
       "      <td>6.000000</td>\n",
       "      <td>6.000000</td>\n",
       "      <td>6.000000</td>\n",
       "      <td>6.000000</td>\n",
       "    </tr>\n",
       "    <tr>\n",
       "      <th>mean</th>\n",
       "      <td>-0.616147</td>\n",
       "      <td>-0.166193</td>\n",
       "      <td>0.651608</td>\n",
       "      <td>-0.298460</td>\n",
       "      <td>0.758043</td>\n",
       "    </tr>\n",
       "    <tr>\n",
       "      <th>std</th>\n",
       "      <td>1.240791</td>\n",
       "      <td>1.183221</td>\n",
       "      <td>0.970101</td>\n",
       "      <td>0.572520</td>\n",
       "      <td>0.709725</td>\n",
       "    </tr>\n",
       "    <tr>\n",
       "      <th>min</th>\n",
       "      <td>-1.981175</td>\n",
       "      <td>-1.960732</td>\n",
       "      <td>-1.079255</td>\n",
       "      <td>-1.105884</td>\n",
       "      <td>0.030064</td>\n",
       "    </tr>\n",
       "    <tr>\n",
       "      <th>10%</th>\n",
       "      <td>-1.933713</td>\n",
       "      <td>-1.418652</td>\n",
       "      <td>-0.288921</td>\n",
       "      <td>-0.990865</td>\n",
       "      <td>0.096399</td>\n",
       "    </tr>\n",
       "    <tr>\n",
       "      <th>50%</th>\n",
       "      <td>-0.528677</td>\n",
       "      <td>-0.074255</td>\n",
       "      <td>0.688174</td>\n",
       "      <td>-0.142322</td>\n",
       "      <td>0.547714</td>\n",
       "    </tr>\n",
       "    <tr>\n",
       "      <th>90%</th>\n",
       "      <td>0.613949</td>\n",
       "      <td>0.994326</td>\n",
       "      <td>1.555572</td>\n",
       "      <td>0.237807</td>\n",
       "      <td>1.630015</td>\n",
       "    </tr>\n",
       "    <tr>\n",
       "      <th>max</th>\n",
       "      <td>1.381843</td>\n",
       "      <td>1.273038</td>\n",
       "      <td>1.711884</td>\n",
       "      <td>0.242728</td>\n",
       "      <td>1.739303</td>\n",
       "    </tr>\n",
       "  </tbody>\n",
       "</table>\n",
       "</div>"
      ],
      "text/plain": [
       "              A         B         C         D         E\n",
       "count  6.000000  6.000000  6.000000  6.000000  6.000000\n",
       "mean  -0.616147 -0.166193  0.651608 -0.298460  0.758043\n",
       "std    1.240791  1.183221  0.970101  0.572520  0.709725\n",
       "min   -1.981175 -1.960732 -1.079255 -1.105884  0.030064\n",
       "10%   -1.933713 -1.418652 -0.288921 -0.990865  0.096399\n",
       "50%   -0.528677 -0.074255  0.688174 -0.142322  0.547714\n",
       "90%    0.613949  0.994326  1.555572  0.237807  1.630015\n",
       "max    1.381843  1.273038  1.711884  0.242728  1.739303"
      ]
     },
     "execution_count": 28,
     "metadata": {
      "tags": []
     },
     "output_type": "execute_result"
    }
   ],
   "source": [
    "df.describe(percentiles=[.10, .5, .90])"
   ]
  },
  {
   "cell_type": "markdown",
   "metadata": {
    "colab_type": "text",
    "id": "LBpXQFRXPpIl"
   },
   "source": [
    "But how would **describe** method work if we have **more than one dtype** in a DataFrame? We will create another DataFrame with mock data containing **categorical, numerical, object** and **timestamp** variables.  "
   ]
  },
  {
   "cell_type": "code",
   "execution_count": 36,
   "metadata": {
    "colab": {
     "base_uri": "https://localhost:8080/",
     "height": 138.0
    },
    "colab_type": "code",
    "id": "hI9PQsX6T4sc",
    "outputId": "5876a99e-b62a-409f-9ecf-95c8d411e164"
   },
   "outputs": [
    {
     "data": {
      "text/html": [
       "<div>\n",
       "<style scoped>\n",
       "    .dataframe tbody tr th:only-of-type {\n",
       "        vertical-align: middle;\n",
       "    }\n",
       "\n",
       "    .dataframe tbody tr th {\n",
       "        vertical-align: top;\n",
       "    }\n",
       "\n",
       "    .dataframe thead th {\n",
       "        text-align: right;\n",
       "    }\n",
       "</style>\n",
       "<table border=\"1\" class=\"dataframe\">\n",
       "  <thead>\n",
       "    <tr style=\"text-align: right;\">\n",
       "      <th></th>\n",
       "      <th>categorical</th>\n",
       "      <th>numeric</th>\n",
       "      <th>object</th>\n",
       "      <th>timestamp</th>\n",
       "    </tr>\n",
       "  </thead>\n",
       "  <tbody>\n",
       "    <tr>\n",
       "      <th>0</th>\n",
       "      <td>B</td>\n",
       "      <td>1</td>\n",
       "      <td>a</td>\n",
       "      <td>2019-12-08</td>\n",
       "    </tr>\n",
       "    <tr>\n",
       "      <th>1</th>\n",
       "      <td>T</td>\n",
       "      <td>2</td>\n",
       "      <td>b</td>\n",
       "      <td>2019-12-10</td>\n",
       "    </tr>\n",
       "    <tr>\n",
       "      <th>2</th>\n",
       "      <td>S</td>\n",
       "      <td>3</td>\n",
       "      <td>c</td>\n",
       "      <td>2019-12-12</td>\n",
       "    </tr>\n",
       "  </tbody>\n",
       "</table>\n",
       "</div>"
      ],
      "text/plain": [
       "  categorical  numeric object  timestamp\n",
       "0           B        1      a 2019-12-08\n",
       "1           T        2      b 2019-12-10\n",
       "2           S        3      c 2019-12-12"
      ]
     },
     "execution_count": 36,
     "metadata": {
      "tags": []
     },
     "output_type": "execute_result"
    }
   ],
   "source": [
    "df2 = pd.DataFrame({'categorical': pd.Categorical(['B','T','S']), \n",
    "                    'numeric': [1, 2, 3], \n",
    "                    'object': ['a', 'b', 'c'],\n",
    "                    'timestamp': pd.Series([np.datetime64(\"2019-12-08\"), \n",
    "                                            np.datetime64(\"2019-12-10\"),\n",
    "                                            np.datetime64(\"2019-12-12\")\n",
    "                                            ])\n",
    "                    })\n",
    "df2"
   ]
  },
  {
   "cell_type": "markdown",
   "metadata": {
    "colab_type": "text",
    "id": "laopqlnGV3DJ"
   },
   "source": [
    "If we now try to use descriptive statistics, Pandas will only run the statistics over the *numeric* field:"
   ]
  },
  {
   "cell_type": "code",
   "execution_count": 34,
   "metadata": {
    "colab": {
     "base_uri": "https://localhost:8080/",
     "height": 288.0
    },
    "colab_type": "code",
    "id": "UZ-0-pwyUTPC",
    "outputId": "04761500-5feb-47ea-d250-ce27b33ea9e0"
   },
   "outputs": [
    {
     "data": {
      "text/html": [
       "<div>\n",
       "<style scoped>\n",
       "    .dataframe tbody tr th:only-of-type {\n",
       "        vertical-align: middle;\n",
       "    }\n",
       "\n",
       "    .dataframe tbody tr th {\n",
       "        vertical-align: top;\n",
       "    }\n",
       "\n",
       "    .dataframe thead th {\n",
       "        text-align: right;\n",
       "    }\n",
       "</style>\n",
       "<table border=\"1\" class=\"dataframe\">\n",
       "  <thead>\n",
       "    <tr style=\"text-align: right;\">\n",
       "      <th></th>\n",
       "      <th>numeric</th>\n",
       "    </tr>\n",
       "  </thead>\n",
       "  <tbody>\n",
       "    <tr>\n",
       "      <th>count</th>\n",
       "      <td>3.0</td>\n",
       "    </tr>\n",
       "    <tr>\n",
       "      <th>mean</th>\n",
       "      <td>2.0</td>\n",
       "    </tr>\n",
       "    <tr>\n",
       "      <th>std</th>\n",
       "      <td>1.0</td>\n",
       "    </tr>\n",
       "    <tr>\n",
       "      <th>min</th>\n",
       "      <td>1.0</td>\n",
       "    </tr>\n",
       "    <tr>\n",
       "      <th>25%</th>\n",
       "      <td>1.5</td>\n",
       "    </tr>\n",
       "    <tr>\n",
       "      <th>50%</th>\n",
       "      <td>2.0</td>\n",
       "    </tr>\n",
       "    <tr>\n",
       "      <th>75%</th>\n",
       "      <td>2.5</td>\n",
       "    </tr>\n",
       "    <tr>\n",
       "      <th>max</th>\n",
       "      <td>3.0</td>\n",
       "    </tr>\n",
       "  </tbody>\n",
       "</table>\n",
       "</div>"
      ],
      "text/plain": [
       "       numeric\n",
       "count      3.0\n",
       "mean       2.0\n",
       "std        1.0\n",
       "min        1.0\n",
       "25%        1.5\n",
       "50%        2.0\n",
       "75%        2.5\n",
       "max        3.0"
      ]
     },
     "execution_count": 34,
     "metadata": {
      "tags": []
     },
     "output_type": "execute_result"
    }
   ],
   "source": [
    "df2.describe()"
   ]
  },
  {
   "cell_type": "markdown",
   "metadata": {
    "colab_type": "text",
    "id": "TYJdN2xzWRlb"
   },
   "source": [
    "In order to control the usage of descriptive statistics over a DataFrame, we can use the *include* and *exclude* parameters, which limit which colums in a DataFrame are analyzed in the describe methods. Obviously, those parameters are ignored when analyzing a Series. We will include *all* the columns regardless of data type:"
   ]
  },
  {
   "cell_type": "code",
   "execution_count": 35,
   "metadata": {
    "colab": {
     "base_uri": "https://localhost:8080/",
     "height": 438.0
    },
    "colab_type": "code",
    "id": "WAWpquD5YDoq",
    "outputId": "2441feb5-5897-406f-8ba8-8890c8e07dc2"
   },
   "outputs": [
    {
     "data": {
      "text/html": [
       "<div>\n",
       "<style scoped>\n",
       "    .dataframe tbody tr th:only-of-type {\n",
       "        vertical-align: middle;\n",
       "    }\n",
       "\n",
       "    .dataframe tbody tr th {\n",
       "        vertical-align: top;\n",
       "    }\n",
       "\n",
       "    .dataframe thead th {\n",
       "        text-align: right;\n",
       "    }\n",
       "</style>\n",
       "<table border=\"1\" class=\"dataframe\">\n",
       "  <thead>\n",
       "    <tr style=\"text-align: right;\">\n",
       "      <th></th>\n",
       "      <th>categorical</th>\n",
       "      <th>numeric</th>\n",
       "      <th>object</th>\n",
       "      <th>timestamp</th>\n",
       "    </tr>\n",
       "  </thead>\n",
       "  <tbody>\n",
       "    <tr>\n",
       "      <th>count</th>\n",
       "      <td>3</td>\n",
       "      <td>3.0</td>\n",
       "      <td>3</td>\n",
       "      <td>3</td>\n",
       "    </tr>\n",
       "    <tr>\n",
       "      <th>unique</th>\n",
       "      <td>3</td>\n",
       "      <td>NaN</td>\n",
       "      <td>3</td>\n",
       "      <td>3</td>\n",
       "    </tr>\n",
       "    <tr>\n",
       "      <th>top</th>\n",
       "      <td>T</td>\n",
       "      <td>NaN</td>\n",
       "      <td>b</td>\n",
       "      <td>2019-12-10 00:00:00</td>\n",
       "    </tr>\n",
       "    <tr>\n",
       "      <th>freq</th>\n",
       "      <td>1</td>\n",
       "      <td>NaN</td>\n",
       "      <td>1</td>\n",
       "      <td>1</td>\n",
       "    </tr>\n",
       "    <tr>\n",
       "      <th>first</th>\n",
       "      <td>NaN</td>\n",
       "      <td>NaN</td>\n",
       "      <td>NaN</td>\n",
       "      <td>2019-12-08 00:00:00</td>\n",
       "    </tr>\n",
       "    <tr>\n",
       "      <th>last</th>\n",
       "      <td>NaN</td>\n",
       "      <td>NaN</td>\n",
       "      <td>NaN</td>\n",
       "      <td>2019-12-12 00:00:00</td>\n",
       "    </tr>\n",
       "    <tr>\n",
       "      <th>mean</th>\n",
       "      <td>NaN</td>\n",
       "      <td>2.0</td>\n",
       "      <td>NaN</td>\n",
       "      <td>NaN</td>\n",
       "    </tr>\n",
       "    <tr>\n",
       "      <th>std</th>\n",
       "      <td>NaN</td>\n",
       "      <td>1.0</td>\n",
       "      <td>NaN</td>\n",
       "      <td>NaN</td>\n",
       "    </tr>\n",
       "    <tr>\n",
       "      <th>min</th>\n",
       "      <td>NaN</td>\n",
       "      <td>1.0</td>\n",
       "      <td>NaN</td>\n",
       "      <td>NaN</td>\n",
       "    </tr>\n",
       "    <tr>\n",
       "      <th>25%</th>\n",
       "      <td>NaN</td>\n",
       "      <td>1.5</td>\n",
       "      <td>NaN</td>\n",
       "      <td>NaN</td>\n",
       "    </tr>\n",
       "    <tr>\n",
       "      <th>50%</th>\n",
       "      <td>NaN</td>\n",
       "      <td>2.0</td>\n",
       "      <td>NaN</td>\n",
       "      <td>NaN</td>\n",
       "    </tr>\n",
       "    <tr>\n",
       "      <th>75%</th>\n",
       "      <td>NaN</td>\n",
       "      <td>2.5</td>\n",
       "      <td>NaN</td>\n",
       "      <td>NaN</td>\n",
       "    </tr>\n",
       "    <tr>\n",
       "      <th>max</th>\n",
       "      <td>NaN</td>\n",
       "      <td>3.0</td>\n",
       "      <td>NaN</td>\n",
       "      <td>NaN</td>\n",
       "    </tr>\n",
       "  </tbody>\n",
       "</table>\n",
       "</div>"
      ],
      "text/plain": [
       "       categorical  numeric object            timestamp\n",
       "count            3      3.0      3                    3\n",
       "unique           3      NaN      3                    3\n",
       "top              T      NaN      b  2019-12-10 00:00:00\n",
       "freq             1      NaN      1                    1\n",
       "first          NaN      NaN    NaN  2019-12-08 00:00:00\n",
       "last           NaN      NaN    NaN  2019-12-12 00:00:00\n",
       "mean           NaN      2.0    NaN                  NaN\n",
       "std            NaN      1.0    NaN                  NaN\n",
       "min            NaN      1.0    NaN                  NaN\n",
       "25%            NaN      1.5    NaN                  NaN\n",
       "50%            NaN      2.0    NaN                  NaN\n",
       "75%            NaN      2.5    NaN                  NaN\n",
       "max            NaN      3.0    NaN                  NaN"
      ]
     },
     "execution_count": 35,
     "metadata": {
      "tags": []
     },
     "output_type": "execute_result"
    }
   ],
   "source": [
    "df2.describe(include='all')                                       "
   ]
  },
  {
   "cell_type": "markdown",
   "metadata": {
    "colab_type": "text",
    "id": "ySGzflg_aFJh"
   },
   "source": [
    "A series of three more statistics appear for object data (strings, timestamps, etc.), i.e. *unique*, *top* and *freq*. The **unique** describres the count of unique values, the **top** describes the most common value and the **freq** the most common value's frequency. For timestamps, also **first** and **last** items are included in the description.\n",
    "\n",
    "We can also access columns as attributes of the DataFrame and describe them:"
   ]
  },
  {
   "cell_type": "code",
   "execution_count": 0,
   "metadata": {
    "colab": {},
    "colab_type": "code",
    "id": "5NKKB1Dac6z_"
   },
   "outputs": [],
   "source": [
    "print(\"Accessing column 'timestamp' as attribute\")\n",
    "df2.timestamp.describe()\n",
    "\n",
    "print(\"\\n\\nAccessing column 'numeric' as attribute\")\n",
    "df2.numeric.describe()"
   ]
  },
  {
   "cell_type": "markdown",
   "metadata": {
    "colab_type": "text",
    "id": "YlHJ27uri1YO"
   },
   "source": [
    "We can further play with the *include* parameter, by invoking the data type, either through NumPy *np.number* which is an abstract base class for all the numeric data types; or *np.object* which is a NumPy base type for objects like strings or lists.\n",
    "\n",
    "Furthermore, we can write the string data type in order to access different columns, including *number*, *category* and *object*:"
   ]
  },
  {
   "cell_type": "code",
   "execution_count": 0,
   "metadata": {
    "colab": {},
    "colab_type": "code",
    "id": "o008q7cDigpO"
   },
   "outputs": [],
   "source": [
    "print(\"Accessing all the numeric columns with np\")\n",
    "df2.describe(include=[np.number])\n",
    "\n",
    "print(\"\\n\\nAccessing all the categorical columns with np\")\n",
    "df2.describe(include=[np.object])\n",
    "\n",
    "print(\"\\n\\nAccessing all the object columns with string calls\")\n",
    "df2.describe(include=['object'])\n",
    "\n",
    "print(\"\\n\\nAccessing all the category columns with string calls\")\n",
    "df2.describe(include=['category'])\n",
    "\n",
    "print(\"\\n\\nAccessing all the number columns with string calls\")\n",
    "df2.describe(include=['number'])"
   ]
  },
  {
   "cell_type": "markdown",
   "metadata": {
    "colab_type": "text",
    "id": "OioX1W7Tv2di"
   },
   "source": [
    "And what happens if we want to exclude columns? We just need to use the exclude parameters:"
   ]
  },
  {
   "cell_type": "code",
   "execution_count": 63,
   "metadata": {
    "colab": {
     "base_uri": "https://localhost:8080/",
     "height": 722.0
    },
    "colab_type": "code",
    "id": "9xoJJMfhfeOq",
    "outputId": "17679029-91ae-4d7f-a0d6-f40db01db8ce"
   },
   "outputs": [
    {
     "name": "stdout",
     "output_type": "stream",
     "text": [
      "Accessing all the columns but excluding numbers\n"
     ]
    },
    {
     "data": {
      "text/html": [
       "<div>\n",
       "<style scoped>\n",
       "    .dataframe tbody tr th:only-of-type {\n",
       "        vertical-align: middle;\n",
       "    }\n",
       "\n",
       "    .dataframe tbody tr th {\n",
       "        vertical-align: top;\n",
       "    }\n",
       "\n",
       "    .dataframe thead th {\n",
       "        text-align: right;\n",
       "    }\n",
       "</style>\n",
       "<table border=\"1\" class=\"dataframe\">\n",
       "  <thead>\n",
       "    <tr style=\"text-align: right;\">\n",
       "      <th></th>\n",
       "      <th>categorical</th>\n",
       "      <th>object</th>\n",
       "      <th>timestamp</th>\n",
       "    </tr>\n",
       "  </thead>\n",
       "  <tbody>\n",
       "    <tr>\n",
       "      <th>count</th>\n",
       "      <td>3</td>\n",
       "      <td>3</td>\n",
       "      <td>3</td>\n",
       "    </tr>\n",
       "    <tr>\n",
       "      <th>unique</th>\n",
       "      <td>3</td>\n",
       "      <td>3</td>\n",
       "      <td>3</td>\n",
       "    </tr>\n",
       "    <tr>\n",
       "      <th>top</th>\n",
       "      <td>T</td>\n",
       "      <td>b</td>\n",
       "      <td>2019-12-10 00:00:00</td>\n",
       "    </tr>\n",
       "    <tr>\n",
       "      <th>freq</th>\n",
       "      <td>1</td>\n",
       "      <td>1</td>\n",
       "      <td>1</td>\n",
       "    </tr>\n",
       "    <tr>\n",
       "      <th>first</th>\n",
       "      <td>NaN</td>\n",
       "      <td>NaN</td>\n",
       "      <td>2019-12-08 00:00:00</td>\n",
       "    </tr>\n",
       "    <tr>\n",
       "      <th>last</th>\n",
       "      <td>NaN</td>\n",
       "      <td>NaN</td>\n",
       "      <td>2019-12-12 00:00:00</td>\n",
       "    </tr>\n",
       "  </tbody>\n",
       "</table>\n",
       "</div>"
      ],
      "text/plain": [
       "       categorical object            timestamp\n",
       "count            3      3                    3\n",
       "unique           3      3                    3\n",
       "top              T      b  2019-12-10 00:00:00\n",
       "freq             1      1                    1\n",
       "first          NaN    NaN  2019-12-08 00:00:00\n",
       "last           NaN    NaN  2019-12-12 00:00:00"
      ]
     },
     "execution_count": 63,
     "metadata": {
      "tags": []
     },
     "output_type": "execute_result"
    },
    {
     "name": "stdout",
     "output_type": "stream",
     "text": [
      "\n",
      "\n",
      "Accessing all the columns but excluding objects\n"
     ]
    },
    {
     "data": {
      "text/html": [
       "<div>\n",
       "<style scoped>\n",
       "    .dataframe tbody tr th:only-of-type {\n",
       "        vertical-align: middle;\n",
       "    }\n",
       "\n",
       "    .dataframe tbody tr th {\n",
       "        vertical-align: top;\n",
       "    }\n",
       "\n",
       "    .dataframe thead th {\n",
       "        text-align: right;\n",
       "    }\n",
       "</style>\n",
       "<table border=\"1\" class=\"dataframe\">\n",
       "  <thead>\n",
       "    <tr style=\"text-align: right;\">\n",
       "      <th></th>\n",
       "      <th>categorical</th>\n",
       "      <th>numeric</th>\n",
       "      <th>timestamp</th>\n",
       "    </tr>\n",
       "  </thead>\n",
       "  <tbody>\n",
       "    <tr>\n",
       "      <th>count</th>\n",
       "      <td>3</td>\n",
       "      <td>3.0</td>\n",
       "      <td>3</td>\n",
       "    </tr>\n",
       "    <tr>\n",
       "      <th>unique</th>\n",
       "      <td>3</td>\n",
       "      <td>NaN</td>\n",
       "      <td>3</td>\n",
       "    </tr>\n",
       "    <tr>\n",
       "      <th>top</th>\n",
       "      <td>T</td>\n",
       "      <td>NaN</td>\n",
       "      <td>2019-12-10 00:00:00</td>\n",
       "    </tr>\n",
       "    <tr>\n",
       "      <th>freq</th>\n",
       "      <td>1</td>\n",
       "      <td>NaN</td>\n",
       "      <td>1</td>\n",
       "    </tr>\n",
       "    <tr>\n",
       "      <th>first</th>\n",
       "      <td>NaN</td>\n",
       "      <td>NaN</td>\n",
       "      <td>2019-12-08 00:00:00</td>\n",
       "    </tr>\n",
       "    <tr>\n",
       "      <th>last</th>\n",
       "      <td>NaN</td>\n",
       "      <td>NaN</td>\n",
       "      <td>2019-12-12 00:00:00</td>\n",
       "    </tr>\n",
       "    <tr>\n",
       "      <th>mean</th>\n",
       "      <td>NaN</td>\n",
       "      <td>2.0</td>\n",
       "      <td>NaN</td>\n",
       "    </tr>\n",
       "    <tr>\n",
       "      <th>std</th>\n",
       "      <td>NaN</td>\n",
       "      <td>1.0</td>\n",
       "      <td>NaN</td>\n",
       "    </tr>\n",
       "    <tr>\n",
       "      <th>min</th>\n",
       "      <td>NaN</td>\n",
       "      <td>1.0</td>\n",
       "      <td>NaN</td>\n",
       "    </tr>\n",
       "    <tr>\n",
       "      <th>25%</th>\n",
       "      <td>NaN</td>\n",
       "      <td>1.5</td>\n",
       "      <td>NaN</td>\n",
       "    </tr>\n",
       "    <tr>\n",
       "      <th>50%</th>\n",
       "      <td>NaN</td>\n",
       "      <td>2.0</td>\n",
       "      <td>NaN</td>\n",
       "    </tr>\n",
       "    <tr>\n",
       "      <th>75%</th>\n",
       "      <td>NaN</td>\n",
       "      <td>2.5</td>\n",
       "      <td>NaN</td>\n",
       "    </tr>\n",
       "    <tr>\n",
       "      <th>max</th>\n",
       "      <td>NaN</td>\n",
       "      <td>3.0</td>\n",
       "      <td>NaN</td>\n",
       "    </tr>\n",
       "  </tbody>\n",
       "</table>\n",
       "</div>"
      ],
      "text/plain": [
       "       categorical  numeric            timestamp\n",
       "count            3      3.0                    3\n",
       "unique           3      NaN                    3\n",
       "top              T      NaN  2019-12-10 00:00:00\n",
       "freq             1      NaN                    1\n",
       "first          NaN      NaN  2019-12-08 00:00:00\n",
       "last           NaN      NaN  2019-12-12 00:00:00\n",
       "mean           NaN      2.0                  NaN\n",
       "std            NaN      1.0                  NaN\n",
       "min            NaN      1.0                  NaN\n",
       "25%            NaN      1.5                  NaN\n",
       "50%            NaN      2.0                  NaN\n",
       "75%            NaN      2.5                  NaN\n",
       "max            NaN      3.0                  NaN"
      ]
     },
     "execution_count": 63,
     "metadata": {
      "tags": []
     },
     "output_type": "execute_result"
    }
   ],
   "source": [
    "print(\"Accessing all the columns but excluding numbers\")\n",
    "df2.describe(exclude=[np.number])\n",
    "\n",
    "print(\"\\n\\nAccessing all the columns but excluding objects\")\n",
    "df2.describe(exclude=[np.object])"
   ]
  },
  {
   "cell_type": "markdown",
   "metadata": {
    "colab_type": "text",
    "id": "AKXBmhAeNnme"
   },
   "source": [
    "#### Quick sorting techniques\n",
    "We can sort DataFrames along certain axis using the *sort_index* method. The **axis=0** corresponds to row sorting, and the **axis=1** corresponds to columns sorting."
   ]
  },
  {
   "cell_type": "code",
   "execution_count": 66,
   "metadata": {
    "colab": {
     "base_uri": "https://localhost:8080/",
     "height": 512.0
    },
    "colab_type": "code",
    "id": "wn3UMd_XZzaj",
    "outputId": "9da97f7c-4317-4827-a4b4-470d029be681"
   },
   "outputs": [
    {
     "name": "stdout",
     "output_type": "stream",
     "text": [
      "Sorting by rows\n"
     ]
    },
    {
     "data": {
      "text/html": [
       "<div>\n",
       "<style scoped>\n",
       "    .dataframe tbody tr th:only-of-type {\n",
       "        vertical-align: middle;\n",
       "    }\n",
       "\n",
       "    .dataframe tbody tr th {\n",
       "        vertical-align: top;\n",
       "    }\n",
       "\n",
       "    .dataframe thead th {\n",
       "        text-align: right;\n",
       "    }\n",
       "</style>\n",
       "<table border=\"1\" class=\"dataframe\">\n",
       "  <thead>\n",
       "    <tr style=\"text-align: right;\">\n",
       "      <th></th>\n",
       "      <th>A</th>\n",
       "      <th>B</th>\n",
       "      <th>C</th>\n",
       "      <th>D</th>\n",
       "      <th>E</th>\n",
       "    </tr>\n",
       "  </thead>\n",
       "  <tbody>\n",
       "    <tr>\n",
       "      <th>2019-12-13</th>\n",
       "      <td>-0.513712</td>\n",
       "      <td>0.715614</td>\n",
       "      <td>0.663741</td>\n",
       "      <td>0.232887</td>\n",
       "      <td>1.520726</td>\n",
       "    </tr>\n",
       "    <tr>\n",
       "      <th>2019-12-12</th>\n",
       "      <td>-0.543642</td>\n",
       "      <td>1.273038</td>\n",
       "      <td>0.712607</td>\n",
       "      <td>-0.020632</td>\n",
       "      <td>0.030064</td>\n",
       "    </tr>\n",
       "    <tr>\n",
       "      <th>2019-12-11</th>\n",
       "      <td>-1.886251</td>\n",
       "      <td>-0.526569</td>\n",
       "      <td>0.501413</td>\n",
       "      <td>-0.875845</td>\n",
       "      <td>1.739303</td>\n",
       "    </tr>\n",
       "    <tr>\n",
       "      <th>2019-12-10</th>\n",
       "      <td>-0.153945</td>\n",
       "      <td>0.378060</td>\n",
       "      <td>1.711884</td>\n",
       "      <td>-1.105884</td>\n",
       "      <td>0.162734</td>\n",
       "    </tr>\n",
       "    <tr>\n",
       "      <th>2019-12-09</th>\n",
       "      <td>-1.981175</td>\n",
       "      <td>-0.876572</td>\n",
       "      <td>1.399260</td>\n",
       "      <td>-0.264012</td>\n",
       "      <td>0.523527</td>\n",
       "    </tr>\n",
       "    <tr>\n",
       "      <th>2019-12-08</th>\n",
       "      <td>1.381843</td>\n",
       "      <td>-1.960732</td>\n",
       "      <td>-1.079255</td>\n",
       "      <td>0.242728</td>\n",
       "      <td>0.571902</td>\n",
       "    </tr>\n",
       "  </tbody>\n",
       "</table>\n",
       "</div>"
      ],
      "text/plain": [
       "                   A         B         C         D         E\n",
       "2019-12-13 -0.513712  0.715614  0.663741  0.232887  1.520726\n",
       "2019-12-12 -0.543642  1.273038  0.712607 -0.020632  0.030064\n",
       "2019-12-11 -1.886251 -0.526569  0.501413 -0.875845  1.739303\n",
       "2019-12-10 -0.153945  0.378060  1.711884 -1.105884  0.162734\n",
       "2019-12-09 -1.981175 -0.876572  1.399260 -0.264012  0.523527\n",
       "2019-12-08  1.381843 -1.960732 -1.079255  0.242728  0.571902"
      ]
     },
     "execution_count": 66,
     "metadata": {
      "tags": []
     },
     "output_type": "execute_result"
    },
    {
     "name": "stdout",
     "output_type": "stream",
     "text": [
      "\n",
      "\n",
      "Sorting by columns\n"
     ]
    },
    {
     "data": {
      "text/html": [
       "<div>\n",
       "<style scoped>\n",
       "    .dataframe tbody tr th:only-of-type {\n",
       "        vertical-align: middle;\n",
       "    }\n",
       "\n",
       "    .dataframe tbody tr th {\n",
       "        vertical-align: top;\n",
       "    }\n",
       "\n",
       "    .dataframe thead th {\n",
       "        text-align: right;\n",
       "    }\n",
       "</style>\n",
       "<table border=\"1\" class=\"dataframe\">\n",
       "  <thead>\n",
       "    <tr style=\"text-align: right;\">\n",
       "      <th></th>\n",
       "      <th>E</th>\n",
       "      <th>D</th>\n",
       "      <th>C</th>\n",
       "      <th>B</th>\n",
       "      <th>A</th>\n",
       "    </tr>\n",
       "  </thead>\n",
       "  <tbody>\n",
       "    <tr>\n",
       "      <th>2019-12-08</th>\n",
       "      <td>0.571902</td>\n",
       "      <td>0.242728</td>\n",
       "      <td>-1.079255</td>\n",
       "      <td>-1.960732</td>\n",
       "      <td>1.381843</td>\n",
       "    </tr>\n",
       "    <tr>\n",
       "      <th>2019-12-09</th>\n",
       "      <td>0.523527</td>\n",
       "      <td>-0.264012</td>\n",
       "      <td>1.399260</td>\n",
       "      <td>-0.876572</td>\n",
       "      <td>-1.981175</td>\n",
       "    </tr>\n",
       "    <tr>\n",
       "      <th>2019-12-10</th>\n",
       "      <td>0.162734</td>\n",
       "      <td>-1.105884</td>\n",
       "      <td>1.711884</td>\n",
       "      <td>0.378060</td>\n",
       "      <td>-0.153945</td>\n",
       "    </tr>\n",
       "    <tr>\n",
       "      <th>2019-12-11</th>\n",
       "      <td>1.739303</td>\n",
       "      <td>-0.875845</td>\n",
       "      <td>0.501413</td>\n",
       "      <td>-0.526569</td>\n",
       "      <td>-1.886251</td>\n",
       "    </tr>\n",
       "    <tr>\n",
       "      <th>2019-12-12</th>\n",
       "      <td>0.030064</td>\n",
       "      <td>-0.020632</td>\n",
       "      <td>0.712607</td>\n",
       "      <td>1.273038</td>\n",
       "      <td>-0.543642</td>\n",
       "    </tr>\n",
       "    <tr>\n",
       "      <th>2019-12-13</th>\n",
       "      <td>1.520726</td>\n",
       "      <td>0.232887</td>\n",
       "      <td>0.663741</td>\n",
       "      <td>0.715614</td>\n",
       "      <td>-0.513712</td>\n",
       "    </tr>\n",
       "  </tbody>\n",
       "</table>\n",
       "</div>"
      ],
      "text/plain": [
       "                   E         D         C         B         A\n",
       "2019-12-08  0.571902  0.242728 -1.079255 -1.960732  1.381843\n",
       "2019-12-09  0.523527 -0.264012  1.399260 -0.876572 -1.981175\n",
       "2019-12-10  0.162734 -1.105884  1.711884  0.378060 -0.153945\n",
       "2019-12-11  1.739303 -0.875845  0.501413 -0.526569 -1.886251\n",
       "2019-12-12  0.030064 -0.020632  0.712607  1.273038 -0.543642\n",
       "2019-12-13  1.520726  0.232887  0.663741  0.715614 -0.513712"
      ]
     },
     "execution_count": 66,
     "metadata": {
      "tags": []
     },
     "output_type": "execute_result"
    }
   ],
   "source": [
    "print(\"Sorting by rows\")\n",
    "df.sort_index(axis=0, ascending=False)\n",
    "\n",
    "print(\"\\n\\nSorting by columns\")\n",
    "df.sort_index(axis=1, ascending=False)"
   ]
  },
  {
   "cell_type": "markdown",
   "metadata": {
    "colab_type": "text",
    "id": "2UHJ9wtK1_z6"
   },
   "source": [
    "We can as well sort by values along either axis using the *sort_values* method. The **by** parameter can be the name or list of names to sort by, the **axis** can be either the *index* or the *columns* and the ascending controls the type of sorting."
   ]
  },
  {
   "cell_type": "code",
   "execution_count": 74,
   "metadata": {
    "colab": {
     "base_uri": "https://localhost:8080/",
     "height": 777.0
    },
    "colab_type": "code",
    "id": "32kSIJRQaiMF",
    "outputId": "864bb02d-d22c-4d73-bad8-679fefc01a7c"
   },
   "outputs": [
    {
     "name": "stdout",
     "output_type": "stream",
     "text": [
      "Sorting indexes over column A\n"
     ]
    },
    {
     "data": {
      "text/html": [
       "<div>\n",
       "<style scoped>\n",
       "    .dataframe tbody tr th:only-of-type {\n",
       "        vertical-align: middle;\n",
       "    }\n",
       "\n",
       "    .dataframe tbody tr th {\n",
       "        vertical-align: top;\n",
       "    }\n",
       "\n",
       "    .dataframe thead th {\n",
       "        text-align: right;\n",
       "    }\n",
       "</style>\n",
       "<table border=\"1\" class=\"dataframe\">\n",
       "  <thead>\n",
       "    <tr style=\"text-align: right;\">\n",
       "      <th></th>\n",
       "      <th>A</th>\n",
       "      <th>B</th>\n",
       "      <th>C</th>\n",
       "      <th>D</th>\n",
       "      <th>E</th>\n",
       "    </tr>\n",
       "  </thead>\n",
       "  <tbody>\n",
       "    <tr>\n",
       "      <th>2019-12-08</th>\n",
       "      <td>1.381843</td>\n",
       "      <td>-1.960732</td>\n",
       "      <td>-1.079255</td>\n",
       "      <td>0.242728</td>\n",
       "      <td>0.571902</td>\n",
       "    </tr>\n",
       "    <tr>\n",
       "      <th>2019-12-10</th>\n",
       "      <td>-0.153945</td>\n",
       "      <td>0.378060</td>\n",
       "      <td>1.711884</td>\n",
       "      <td>-1.105884</td>\n",
       "      <td>0.162734</td>\n",
       "    </tr>\n",
       "    <tr>\n",
       "      <th>2019-12-13</th>\n",
       "      <td>-0.513712</td>\n",
       "      <td>0.715614</td>\n",
       "      <td>0.663741</td>\n",
       "      <td>0.232887</td>\n",
       "      <td>1.520726</td>\n",
       "    </tr>\n",
       "    <tr>\n",
       "      <th>2019-12-12</th>\n",
       "      <td>-0.543642</td>\n",
       "      <td>1.273038</td>\n",
       "      <td>0.712607</td>\n",
       "      <td>-0.020632</td>\n",
       "      <td>0.030064</td>\n",
       "    </tr>\n",
       "    <tr>\n",
       "      <th>2019-12-11</th>\n",
       "      <td>-1.886251</td>\n",
       "      <td>-0.526569</td>\n",
       "      <td>0.501413</td>\n",
       "      <td>-0.875845</td>\n",
       "      <td>1.739303</td>\n",
       "    </tr>\n",
       "    <tr>\n",
       "      <th>2019-12-09</th>\n",
       "      <td>-1.981175</td>\n",
       "      <td>-0.876572</td>\n",
       "      <td>1.399260</td>\n",
       "      <td>-0.264012</td>\n",
       "      <td>0.523527</td>\n",
       "    </tr>\n",
       "  </tbody>\n",
       "</table>\n",
       "</div>"
      ],
      "text/plain": [
       "                   A         B         C         D         E\n",
       "2019-12-08  1.381843 -1.960732 -1.079255  0.242728  0.571902\n",
       "2019-12-10 -0.153945  0.378060  1.711884 -1.105884  0.162734\n",
       "2019-12-13 -0.513712  0.715614  0.663741  0.232887  1.520726\n",
       "2019-12-12 -0.543642  1.273038  0.712607 -0.020632  0.030064\n",
       "2019-12-11 -1.886251 -0.526569  0.501413 -0.875845  1.739303\n",
       "2019-12-09 -1.981175 -0.876572  1.399260 -0.264012  0.523527"
      ]
     },
     "execution_count": 74,
     "metadata": {
      "tags": []
     },
     "output_type": "execute_result"
    },
    {
     "name": "stdout",
     "output_type": "stream",
     "text": [
      "\n",
      "\n",
      "Sorting indexes over column B and C\n"
     ]
    },
    {
     "data": {
      "text/html": [
       "<div>\n",
       "<style scoped>\n",
       "    .dataframe tbody tr th:only-of-type {\n",
       "        vertical-align: middle;\n",
       "    }\n",
       "\n",
       "    .dataframe tbody tr th {\n",
       "        vertical-align: top;\n",
       "    }\n",
       "\n",
       "    .dataframe thead th {\n",
       "        text-align: right;\n",
       "    }\n",
       "</style>\n",
       "<table border=\"1\" class=\"dataframe\">\n",
       "  <thead>\n",
       "    <tr style=\"text-align: right;\">\n",
       "      <th></th>\n",
       "      <th>A</th>\n",
       "      <th>B</th>\n",
       "      <th>C</th>\n",
       "      <th>D</th>\n",
       "      <th>E</th>\n",
       "    </tr>\n",
       "  </thead>\n",
       "  <tbody>\n",
       "    <tr>\n",
       "      <th>2019-12-12</th>\n",
       "      <td>-0.543642</td>\n",
       "      <td>1.273038</td>\n",
       "      <td>0.712607</td>\n",
       "      <td>-0.020632</td>\n",
       "      <td>0.030064</td>\n",
       "    </tr>\n",
       "    <tr>\n",
       "      <th>2019-12-13</th>\n",
       "      <td>-0.513712</td>\n",
       "      <td>0.715614</td>\n",
       "      <td>0.663741</td>\n",
       "      <td>0.232887</td>\n",
       "      <td>1.520726</td>\n",
       "    </tr>\n",
       "    <tr>\n",
       "      <th>2019-12-10</th>\n",
       "      <td>-0.153945</td>\n",
       "      <td>0.378060</td>\n",
       "      <td>1.711884</td>\n",
       "      <td>-1.105884</td>\n",
       "      <td>0.162734</td>\n",
       "    </tr>\n",
       "    <tr>\n",
       "      <th>2019-12-11</th>\n",
       "      <td>-1.886251</td>\n",
       "      <td>-0.526569</td>\n",
       "      <td>0.501413</td>\n",
       "      <td>-0.875845</td>\n",
       "      <td>1.739303</td>\n",
       "    </tr>\n",
       "    <tr>\n",
       "      <th>2019-12-09</th>\n",
       "      <td>-1.981175</td>\n",
       "      <td>-0.876572</td>\n",
       "      <td>1.399260</td>\n",
       "      <td>-0.264012</td>\n",
       "      <td>0.523527</td>\n",
       "    </tr>\n",
       "    <tr>\n",
       "      <th>2019-12-08</th>\n",
       "      <td>1.381843</td>\n",
       "      <td>-1.960732</td>\n",
       "      <td>-1.079255</td>\n",
       "      <td>0.242728</td>\n",
       "      <td>0.571902</td>\n",
       "    </tr>\n",
       "  </tbody>\n",
       "</table>\n",
       "</div>"
      ],
      "text/plain": [
       "                   A         B         C         D         E\n",
       "2019-12-12 -0.543642  1.273038  0.712607 -0.020632  0.030064\n",
       "2019-12-13 -0.513712  0.715614  0.663741  0.232887  1.520726\n",
       "2019-12-10 -0.153945  0.378060  1.711884 -1.105884  0.162734\n",
       "2019-12-11 -1.886251 -0.526569  0.501413 -0.875845  1.739303\n",
       "2019-12-09 -1.981175 -0.876572  1.399260 -0.264012  0.523527\n",
       "2019-12-08  1.381843 -1.960732 -1.079255  0.242728  0.571902"
      ]
     },
     "execution_count": 74,
     "metadata": {
      "tags": []
     },
     "output_type": "execute_result"
    },
    {
     "name": "stdout",
     "output_type": "stream",
     "text": [
      "\n",
      "\n",
      "Sorting columns over date 2019-12-08\n"
     ]
    },
    {
     "data": {
      "text/html": [
       "<div>\n",
       "<style scoped>\n",
       "    .dataframe tbody tr th:only-of-type {\n",
       "        vertical-align: middle;\n",
       "    }\n",
       "\n",
       "    .dataframe tbody tr th {\n",
       "        vertical-align: top;\n",
       "    }\n",
       "\n",
       "    .dataframe thead th {\n",
       "        text-align: right;\n",
       "    }\n",
       "</style>\n",
       "<table border=\"1\" class=\"dataframe\">\n",
       "  <thead>\n",
       "    <tr style=\"text-align: right;\">\n",
       "      <th></th>\n",
       "      <th>A</th>\n",
       "      <th>E</th>\n",
       "      <th>D</th>\n",
       "      <th>C</th>\n",
       "      <th>B</th>\n",
       "    </tr>\n",
       "  </thead>\n",
       "  <tbody>\n",
       "    <tr>\n",
       "      <th>2019-12-08</th>\n",
       "      <td>1.381843</td>\n",
       "      <td>0.571902</td>\n",
       "      <td>0.242728</td>\n",
       "      <td>-1.079255</td>\n",
       "      <td>-1.960732</td>\n",
       "    </tr>\n",
       "    <tr>\n",
       "      <th>2019-12-09</th>\n",
       "      <td>-1.981175</td>\n",
       "      <td>0.523527</td>\n",
       "      <td>-0.264012</td>\n",
       "      <td>1.399260</td>\n",
       "      <td>-0.876572</td>\n",
       "    </tr>\n",
       "    <tr>\n",
       "      <th>2019-12-10</th>\n",
       "      <td>-0.153945</td>\n",
       "      <td>0.162734</td>\n",
       "      <td>-1.105884</td>\n",
       "      <td>1.711884</td>\n",
       "      <td>0.378060</td>\n",
       "    </tr>\n",
       "    <tr>\n",
       "      <th>2019-12-11</th>\n",
       "      <td>-1.886251</td>\n",
       "      <td>1.739303</td>\n",
       "      <td>-0.875845</td>\n",
       "      <td>0.501413</td>\n",
       "      <td>-0.526569</td>\n",
       "    </tr>\n",
       "    <tr>\n",
       "      <th>2019-12-12</th>\n",
       "      <td>-0.543642</td>\n",
       "      <td>0.030064</td>\n",
       "      <td>-0.020632</td>\n",
       "      <td>0.712607</td>\n",
       "      <td>1.273038</td>\n",
       "    </tr>\n",
       "    <tr>\n",
       "      <th>2019-12-13</th>\n",
       "      <td>-0.513712</td>\n",
       "      <td>1.520726</td>\n",
       "      <td>0.232887</td>\n",
       "      <td>0.663741</td>\n",
       "      <td>0.715614</td>\n",
       "    </tr>\n",
       "  </tbody>\n",
       "</table>\n",
       "</div>"
      ],
      "text/plain": [
       "                   A         E         D         C         B\n",
       "2019-12-08  1.381843  0.571902  0.242728 -1.079255 -1.960732\n",
       "2019-12-09 -1.981175  0.523527 -0.264012  1.399260 -0.876572\n",
       "2019-12-10 -0.153945  0.162734 -1.105884  1.711884  0.378060\n",
       "2019-12-11 -1.886251  1.739303 -0.875845  0.501413 -0.526569\n",
       "2019-12-12 -0.543642  0.030064 -0.020632  0.712607  1.273038\n",
       "2019-12-13 -0.513712  1.520726  0.232887  0.663741  0.715614"
      ]
     },
     "execution_count": 74,
     "metadata": {
      "tags": []
     },
     "output_type": "execute_result"
    }
   ],
   "source": [
    "print(\"Sorting indexes over column A\")\n",
    "df.sort_values(by='A', axis='index', ascending=False)\n",
    "\n",
    "print(\"\\n\\nSorting indexes over column B and C\")\n",
    "df.sort_values(by=['B', 'C'], axis='index', ascending=False)\n",
    "\n",
    "print(\"\\n\\nSorting columns over date 2019-12-08\")\n",
    "df.sort_values(by='2019-12-08', axis='columns', ascending=False)"
   ]
  },
  {
   "cell_type": "markdown",
   "metadata": {
    "colab_type": "text",
    "id": "PUzSsNzXN4Zw"
   },
   "source": [
    "### In class EXERCISE: descriptive statistics of mixed DataFrames"
   ]
  },
  {
   "cell_type": "markdown",
   "metadata": {
    "colab_type": "text",
    "id": "c0K0Fi6EdHCK"
   },
   "source": [
    "## Selection"
   ]
  },
  {
   "cell_type": "markdown",
   "metadata": {
    "colab_type": "text",
    "id": "pZI_Kvkadcw6"
   },
   "source": [
    "## Dealing with missing data"
   ]
  },
  {
   "cell_type": "markdown",
   "metadata": {
    "colab_type": "text",
    "id": "mSmwF8FhdqIg"
   },
   "source": [
    "## Basic operations"
   ]
  },
  {
   "cell_type": "markdown",
   "metadata": {
    "colab_type": "text",
    "id": "zP1Ql0Fydz_2"
   },
   "source": [
    "## Merging and grouping"
   ]
  },
  {
   "cell_type": "markdown",
   "metadata": {
    "colab_type": "text",
    "id": "ng4j_sWad6sg"
   },
   "source": [
    "## Reshaping DataFrames"
   ]
  },
  {
   "cell_type": "markdown",
   "metadata": {
    "colab_type": "text",
    "id": "aZmf-5GxeFp7"
   },
   "source": [
    "## Time series"
   ]
  },
  {
   "cell_type": "markdown",
   "metadata": {
    "colab_type": "text",
    "id": "c9Lq_UjseKNw"
   },
   "source": [
    "## Categoricals"
   ]
  },
  {
   "cell_type": "markdown",
   "metadata": {
    "colab_type": "text",
    "id": "FudIVAYLeTpm"
   },
   "source": [
    "## Plotting"
   ]
  },
  {
   "cell_type": "markdown",
   "metadata": {
    "colab_type": "text",
    "id": "gxQLQEgpewjJ"
   },
   "source": [
    "## Getting data in/out"
   ]
  },
  {
   "cell_type": "markdown",
   "metadata": {
    "colab_type": "text",
    "id": "2LWJqFS7e75z"
   },
   "source": [
    "# Experimenting with real data"
   ]
  },
  {
   "cell_type": "code",
   "execution_count": 0,
   "metadata": {
    "colab": {},
    "colab_type": "code",
    "id": "9EeUDPvPdvdB"
   },
   "outputs": [],
   "source": []
  }
 ],
 "metadata": {
  "colab": {
   "collapsed_sections": [
    "NkcFst5PDMe0"
   ],
   "name": "Session 1 - DataPrep",
   "provenance": []
  },
  "kernelspec": {
   "display_name": "Python 3",
   "language": "python",
   "name": "python3"
  },
  "language_info": {
   "codemirror_mode": {
    "name": "ipython",
    "version": 3
   },
   "file_extension": ".py",
   "mimetype": "text/x-python",
   "name": "python",
   "nbconvert_exporter": "python",
   "pygments_lexer": "ipython3",
   "version": "3.6.5"
  }
 },
 "nbformat": 4,
 "nbformat_minor": 1
}
